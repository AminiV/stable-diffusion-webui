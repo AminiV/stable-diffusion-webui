{
  "nbformat": 4,
  "nbformat_minor": 0,
  "metadata": {
    "colab": {
      "provenance": [],
      "include_colab_link": true
    },
    "kernelspec": {
      "name": "python3",
      "display_name": "Python 3"
    },
    "language_info": {
      "name": "python"
    }
  },
  "cells": [
    {
      "cell_type": "markdown",
      "metadata": {
        "id": "view-in-github",
        "colab_type": "text"
      },
      "source": [
        "<a href=\"https://colab.research.google.com/github/AminiV/stable-diffusion-webui/blob/master/runpodctl_send.ipynb\" target=\"_parent\"><img src=\"https://colab.research.google.com/assets/colab-badge.svg\" alt=\"Open In Colab\"/></a>"
      ]
    },
    {
      "cell_type": "code",
      "execution_count": null,
      "metadata": {
        "id": "YlEgSwgKgDlu"
      },
      "outputs": [],
      "source": [
        "#@title Mount Drive\n",
        "from google.colab import drive\n",
        "drive.mount('/content/drive')\n",
        "!rm -rf /content/sample_data/"
      ]
    },
    {
      "cell_type": "code",
      "source": [
        "#@title install runpodctl\n",
        "!wget --quiet --show-progress https://github.com/Run-Pod/runpodctl/releases/download/v1.8.0/runpodctl-linux-amd -O runpodctl\n",
        "!chmod +x runpodctl\n",
        "!cp runpodctl /usr/bin/runpodctl"
      ],
      "metadata": {
        "id": "2nlcIAY3gGLt"
      },
      "execution_count": null,
      "outputs": []
    },
    {
      "cell_type": "code",
      "source": [
        "#@title Send a file\n",
        "# Open a terminal in your pod and type the output that this command gives you\n",
        "\n",
        "%cd /content/drive/MyDrive\n",
        "!runpodctl send REPLACE_ME_WITH_YOUR_FILE_OR_FOLDER_NAME_YOU_WANT_TO_SEND"
      ],
      "metadata": {
        "id": "mcx_-Qs-gIiU"
      },
      "execution_count": null,
      "outputs": []
    }
  ]
}